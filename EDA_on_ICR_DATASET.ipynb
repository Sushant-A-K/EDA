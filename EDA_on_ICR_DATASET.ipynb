{
  "nbformat": 4,
  "nbformat_minor": 0,
  "metadata": {
    "colab": {
      "provenance": []
    },
    "kernelspec": {
      "name": "python3",
      "display_name": "Python 3"
    },
    "language_info": {
      "name": "python"
    }
  },
  "cells": [
    {
      "cell_type": "code",
      "execution_count": 3,
      "metadata": {
        "colab": {
          "base_uri": "https://localhost:8080/"
        },
        "id": "gNLrnp08Sy8J",
        "outputId": "2de4f417-cabd-4d77-8a70-720f9d569c03"
      },
      "outputs": [
        {
          "output_type": "stream",
          "name": "stdout",
          "text": [
            "Cloning into 'Neural_ninjas'...\n",
            "remote: Enumerating objects: 10, done.\u001b[K\n",
            "remote: Counting objects: 100% (10/10), done.\u001b[K\n",
            "remote: Compressing objects: 100% (9/9), done.\u001b[K\n",
            "remote: Total 10 (delta 0), reused 0 (delta 0), pack-reused 0\u001b[K\n",
            "Unpacking objects: 100% (10/10), 299.81 KiB | 3.06 MiB/s, done.\n"
          ]
        }
      ],
      "source": [
        "!git clone https://github.com/NandanDate/Neural_ninjas.git"
      ]
    },
    {
      "cell_type": "markdown",
      "source": [
        "Import basic libraries"
      ],
      "metadata": {
        "id": "dQiHvK87Utpe"
      }
    },
    {
      "cell_type": "code",
      "source": [
        "import pandas as pd\n",
        "import numpy as np\n",
        "\n",
        "import matplotlib.pyplot as plt\n",
        "%matplotlib inline\n",
        "import seaborn as sns\n",
        "\n",
        "from sklearn.model_selection import train_test_split\n",
        "from sklearn.linear_model import LogisticRegression\n",
        "from sklearn.metrics import confusion_matrix, classification_report\n",
        "\n",
        "%config Completer.use_jedi = False"
      ],
      "metadata": {
        "id": "2YlLEWNrTt2Y"
      },
      "execution_count": 4,
      "outputs": []
    },
    {
      "cell_type": "markdown",
      "source": [
        "Data Processing\n",
        "Load Data\n"
      ],
      "metadata": {
        "id": "wxqBrV3PUrbX"
      }
    },
    {
      "cell_type": "code",
      "source": [
        "df = pd.read_csv('/content/Neural_ninjas/ICR DATASET/train.csv')\n",
        "test_df = pd.read_csv('/content/Neural_ninjas/ICR DATASET/test.csv')\n",
        "\n",
        "orig_df = df.copy()"
      ],
      "metadata": {
        "id": "DbhWpP0LU8Dm"
      },
      "execution_count": 5,
      "outputs": []
    },
    {
      "cell_type": "code",
      "source": [
        "df.head()"
      ],
      "metadata": {
        "colab": {
          "base_uri": "https://localhost:8080/",
          "height": 299
        },
        "id": "mybfWkurVKzc",
        "outputId": "2f152998-5140-4cb9-e669-12e50ff6fc80"
      },
      "execution_count": 6,
      "outputs": [
        {
          "output_type": "execute_result",
          "data": {
            "text/plain": [
              "             Id        AB          AF          AH         AM        AR  \\\n",
              "0  000ff2bfdfe9  0.209377  3109.03329   85.200147  22.394407  8.138688   \n",
              "1  007255e47698  0.145282   978.76416   85.200147  36.968889  8.138688   \n",
              "2  013f2bd269f5  0.470030  2635.10654   85.200147  32.360553  8.138688   \n",
              "3  043ac50845d5  0.252107  3819.65177  120.201618  77.112203  8.138688   \n",
              "4  044fb8a146ec  0.380297  3733.04844   85.200147  14.103738  8.138688   \n",
              "\n",
              "         AX        AY         AZ          BC  ...        FL        FR  \\\n",
              "0  0.699861  0.025578   9.812214    5.555634  ...  7.298162   1.73855   \n",
              "1  3.632190  0.025578  13.517790    1.229900  ...  0.173229   0.49706   \n",
              "2  6.732840  0.025578  12.824570    1.229900  ...  7.709560   0.97556   \n",
              "3  3.685344  0.025578  11.053708    1.229900  ...  6.122162   0.49706   \n",
              "4  3.942255  0.054810   3.396778  102.151980  ...  8.153058  48.50134   \n",
              "\n",
              "         FS         GB          GE            GF         GH         GI  \\\n",
              "0  0.094822  11.339138   72.611063   2003.810319  22.136229  69.834944   \n",
              "1  0.568932   9.292698   72.611063  27981.562750  29.135430  32.131996   \n",
              "2  1.198821  37.077772   88.609437  13676.957810  28.022851  35.192676   \n",
              "3  0.284466  18.529584   82.416803   2094.262452  39.948656  90.493248   \n",
              "4  0.121914  16.408728  146.109943   8524.370502  45.381316  36.262628   \n",
              "\n",
              "          GL  Class  \n",
              "0   0.120343      1  \n",
              "1  21.978000      0  \n",
              "2   0.196941      0  \n",
              "3   0.155829      0  \n",
              "4   0.096614      1  \n",
              "\n",
              "[5 rows x 58 columns]"
            ],
            "text/html": [
              "\n",
              "  <div id=\"df-b6bde92a-57ef-4f09-aba7-92a25f50d460\">\n",
              "    <div class=\"colab-df-container\">\n",
              "      <div>\n",
              "<style scoped>\n",
              "    .dataframe tbody tr th:only-of-type {\n",
              "        vertical-align: middle;\n",
              "    }\n",
              "\n",
              "    .dataframe tbody tr th {\n",
              "        vertical-align: top;\n",
              "    }\n",
              "\n",
              "    .dataframe thead th {\n",
              "        text-align: right;\n",
              "    }\n",
              "</style>\n",
              "<table border=\"1\" class=\"dataframe\">\n",
              "  <thead>\n",
              "    <tr style=\"text-align: right;\">\n",
              "      <th></th>\n",
              "      <th>Id</th>\n",
              "      <th>AB</th>\n",
              "      <th>AF</th>\n",
              "      <th>AH</th>\n",
              "      <th>AM</th>\n",
              "      <th>AR</th>\n",
              "      <th>AX</th>\n",
              "      <th>AY</th>\n",
              "      <th>AZ</th>\n",
              "      <th>BC</th>\n",
              "      <th>...</th>\n",
              "      <th>FL</th>\n",
              "      <th>FR</th>\n",
              "      <th>FS</th>\n",
              "      <th>GB</th>\n",
              "      <th>GE</th>\n",
              "      <th>GF</th>\n",
              "      <th>GH</th>\n",
              "      <th>GI</th>\n",
              "      <th>GL</th>\n",
              "      <th>Class</th>\n",
              "    </tr>\n",
              "  </thead>\n",
              "  <tbody>\n",
              "    <tr>\n",
              "      <th>0</th>\n",
              "      <td>000ff2bfdfe9</td>\n",
              "      <td>0.209377</td>\n",
              "      <td>3109.03329</td>\n",
              "      <td>85.200147</td>\n",
              "      <td>22.394407</td>\n",
              "      <td>8.138688</td>\n",
              "      <td>0.699861</td>\n",
              "      <td>0.025578</td>\n",
              "      <td>9.812214</td>\n",
              "      <td>5.555634</td>\n",
              "      <td>...</td>\n",
              "      <td>7.298162</td>\n",
              "      <td>1.73855</td>\n",
              "      <td>0.094822</td>\n",
              "      <td>11.339138</td>\n",
              "      <td>72.611063</td>\n",
              "      <td>2003.810319</td>\n",
              "      <td>22.136229</td>\n",
              "      <td>69.834944</td>\n",
              "      <td>0.120343</td>\n",
              "      <td>1</td>\n",
              "    </tr>\n",
              "    <tr>\n",
              "      <th>1</th>\n",
              "      <td>007255e47698</td>\n",
              "      <td>0.145282</td>\n",
              "      <td>978.76416</td>\n",
              "      <td>85.200147</td>\n",
              "      <td>36.968889</td>\n",
              "      <td>8.138688</td>\n",
              "      <td>3.632190</td>\n",
              "      <td>0.025578</td>\n",
              "      <td>13.517790</td>\n",
              "      <td>1.229900</td>\n",
              "      <td>...</td>\n",
              "      <td>0.173229</td>\n",
              "      <td>0.49706</td>\n",
              "      <td>0.568932</td>\n",
              "      <td>9.292698</td>\n",
              "      <td>72.611063</td>\n",
              "      <td>27981.562750</td>\n",
              "      <td>29.135430</td>\n",
              "      <td>32.131996</td>\n",
              "      <td>21.978000</td>\n",
              "      <td>0</td>\n",
              "    </tr>\n",
              "    <tr>\n",
              "      <th>2</th>\n",
              "      <td>013f2bd269f5</td>\n",
              "      <td>0.470030</td>\n",
              "      <td>2635.10654</td>\n",
              "      <td>85.200147</td>\n",
              "      <td>32.360553</td>\n",
              "      <td>8.138688</td>\n",
              "      <td>6.732840</td>\n",
              "      <td>0.025578</td>\n",
              "      <td>12.824570</td>\n",
              "      <td>1.229900</td>\n",
              "      <td>...</td>\n",
              "      <td>7.709560</td>\n",
              "      <td>0.97556</td>\n",
              "      <td>1.198821</td>\n",
              "      <td>37.077772</td>\n",
              "      <td>88.609437</td>\n",
              "      <td>13676.957810</td>\n",
              "      <td>28.022851</td>\n",
              "      <td>35.192676</td>\n",
              "      <td>0.196941</td>\n",
              "      <td>0</td>\n",
              "    </tr>\n",
              "    <tr>\n",
              "      <th>3</th>\n",
              "      <td>043ac50845d5</td>\n",
              "      <td>0.252107</td>\n",
              "      <td>3819.65177</td>\n",
              "      <td>120.201618</td>\n",
              "      <td>77.112203</td>\n",
              "      <td>8.138688</td>\n",
              "      <td>3.685344</td>\n",
              "      <td>0.025578</td>\n",
              "      <td>11.053708</td>\n",
              "      <td>1.229900</td>\n",
              "      <td>...</td>\n",
              "      <td>6.122162</td>\n",
              "      <td>0.49706</td>\n",
              "      <td>0.284466</td>\n",
              "      <td>18.529584</td>\n",
              "      <td>82.416803</td>\n",
              "      <td>2094.262452</td>\n",
              "      <td>39.948656</td>\n",
              "      <td>90.493248</td>\n",
              "      <td>0.155829</td>\n",
              "      <td>0</td>\n",
              "    </tr>\n",
              "    <tr>\n",
              "      <th>4</th>\n",
              "      <td>044fb8a146ec</td>\n",
              "      <td>0.380297</td>\n",
              "      <td>3733.04844</td>\n",
              "      <td>85.200147</td>\n",
              "      <td>14.103738</td>\n",
              "      <td>8.138688</td>\n",
              "      <td>3.942255</td>\n",
              "      <td>0.054810</td>\n",
              "      <td>3.396778</td>\n",
              "      <td>102.151980</td>\n",
              "      <td>...</td>\n",
              "      <td>8.153058</td>\n",
              "      <td>48.50134</td>\n",
              "      <td>0.121914</td>\n",
              "      <td>16.408728</td>\n",
              "      <td>146.109943</td>\n",
              "      <td>8524.370502</td>\n",
              "      <td>45.381316</td>\n",
              "      <td>36.262628</td>\n",
              "      <td>0.096614</td>\n",
              "      <td>1</td>\n",
              "    </tr>\n",
              "  </tbody>\n",
              "</table>\n",
              "<p>5 rows × 58 columns</p>\n",
              "</div>\n",
              "      <button class=\"colab-df-convert\" onclick=\"convertToInteractive('df-b6bde92a-57ef-4f09-aba7-92a25f50d460')\"\n",
              "              title=\"Convert this dataframe to an interactive table.\"\n",
              "              style=\"display:none;\">\n",
              "        \n",
              "  <svg xmlns=\"http://www.w3.org/2000/svg\" height=\"24px\"viewBox=\"0 0 24 24\"\n",
              "       width=\"24px\">\n",
              "    <path d=\"M0 0h24v24H0V0z\" fill=\"none\"/>\n",
              "    <path d=\"M18.56 5.44l.94 2.06.94-2.06 2.06-.94-2.06-.94-.94-2.06-.94 2.06-2.06.94zm-11 1L8.5 8.5l.94-2.06 2.06-.94-2.06-.94L8.5 2.5l-.94 2.06-2.06.94zm10 10l.94 2.06.94-2.06 2.06-.94-2.06-.94-.94-2.06-.94 2.06-2.06.94z\"/><path d=\"M17.41 7.96l-1.37-1.37c-.4-.4-.92-.59-1.43-.59-.52 0-1.04.2-1.43.59L10.3 9.45l-7.72 7.72c-.78.78-.78 2.05 0 2.83L4 21.41c.39.39.9.59 1.41.59.51 0 1.02-.2 1.41-.59l7.78-7.78 2.81-2.81c.8-.78.8-2.07 0-2.86zM5.41 20L4 18.59l7.72-7.72 1.47 1.35L5.41 20z\"/>\n",
              "  </svg>\n",
              "      </button>\n",
              "      \n",
              "  <style>\n",
              "    .colab-df-container {\n",
              "      display:flex;\n",
              "      flex-wrap:wrap;\n",
              "      gap: 12px;\n",
              "    }\n",
              "\n",
              "    .colab-df-convert {\n",
              "      background-color: #E8F0FE;\n",
              "      border: none;\n",
              "      border-radius: 50%;\n",
              "      cursor: pointer;\n",
              "      display: none;\n",
              "      fill: #1967D2;\n",
              "      height: 32px;\n",
              "      padding: 0 0 0 0;\n",
              "      width: 32px;\n",
              "    }\n",
              "\n",
              "    .colab-df-convert:hover {\n",
              "      background-color: #E2EBFA;\n",
              "      box-shadow: 0px 1px 2px rgba(60, 64, 67, 0.3), 0px 1px 3px 1px rgba(60, 64, 67, 0.15);\n",
              "      fill: #174EA6;\n",
              "    }\n",
              "\n",
              "    [theme=dark] .colab-df-convert {\n",
              "      background-color: #3B4455;\n",
              "      fill: #D2E3FC;\n",
              "    }\n",
              "\n",
              "    [theme=dark] .colab-df-convert:hover {\n",
              "      background-color: #434B5C;\n",
              "      box-shadow: 0px 1px 3px 1px rgba(0, 0, 0, 0.15);\n",
              "      filter: drop-shadow(0px 1px 2px rgba(0, 0, 0, 0.3));\n",
              "      fill: #FFFFFF;\n",
              "    }\n",
              "  </style>\n",
              "\n",
              "      <script>\n",
              "        const buttonEl =\n",
              "          document.querySelector('#df-b6bde92a-57ef-4f09-aba7-92a25f50d460 button.colab-df-convert');\n",
              "        buttonEl.style.display =\n",
              "          google.colab.kernel.accessAllowed ? 'block' : 'none';\n",
              "\n",
              "        async function convertToInteractive(key) {\n",
              "          const element = document.querySelector('#df-b6bde92a-57ef-4f09-aba7-92a25f50d460');\n",
              "          const dataTable =\n",
              "            await google.colab.kernel.invokeFunction('convertToInteractive',\n",
              "                                                     [key], {});\n",
              "          if (!dataTable) return;\n",
              "\n",
              "          const docLinkHtml = 'Like what you see? Visit the ' +\n",
              "            '<a target=\"_blank\" href=https://colab.research.google.com/notebooks/data_table.ipynb>data table notebook</a>'\n",
              "            + ' to learn more about interactive tables.';\n",
              "          element.innerHTML = '';\n",
              "          dataTable['output_type'] = 'display_data';\n",
              "          await google.colab.output.renderOutput(dataTable, element);\n",
              "          const docLink = document.createElement('div');\n",
              "          docLink.innerHTML = docLinkHtml;\n",
              "          element.appendChild(docLink);\n",
              "        }\n",
              "      </script>\n",
              "    </div>\n",
              "  </div>\n",
              "  "
            ]
          },
          "metadata": {},
          "execution_count": 6
        }
      ]
    },
    {
      "cell_type": "code",
      "source": [
        "import pandas as pd\n",
        "\n",
        "# Assuming your Series is named \"my_series\"\n",
        "mapping = {\n",
        "    'A': 1,\n",
        "    'B': 2,\n",
        "    'C': 3,\n",
        "    'D': 4,\n",
        "    'E': 5,\n",
        "    'F': 6,\n",
        "    'G': 7,\n",
        "    'H': 8,\n",
        "    'I': 9,\n",
        "    'J': 10,\n",
        "    'K': 11,\n",
        "    'L': 12,\n",
        "    'M': 13,\n",
        "    'N': 14,\n",
        "    'O': 15,\n",
        "    'P': 16,\n",
        "    'Q': 17,\n",
        "    'R': 18,\n",
        "    'S': 19,\n",
        "    'T': 20,\n",
        "    'U': 21,\n",
        "    'V': 22,\n",
        "    'W': 23,\n",
        "    'X': 24,\n",
        "    'Y': 25,\n",
        "    'Z': 26\n",
        "}\n",
        "\n",
        "# Function to map letters to numbers\n",
        "def map_letters_to_numbers(value):\n",
        "    if isinstance(value, str):  # Check if value is a string\n",
        "        return mapping.get(value, value)  # Return the mapped value if found, otherwise return the original value\n",
        "    return value  # Return the original value if it's not a string\n",
        "\n",
        "# Apply the mapping function to the Series\n",
        "df = df.coloumn(map_letters_to_numbers)\n",
        "\n",
        "# Printing the updated Series\n",
        "print(df.head())\n"
      ],
      "metadata": {
        "id": "JydNzMq0csON"
      },
      "execution_count": null,
      "outputs": []
    },
    {
      "cell_type": "code",
      "source": [
        "from sklearn.preprocessing import LabelEncoder\n",
        "label_encoder = LabelEncoder()\n",
        "\n",
        "df['EJ'] = label_encoder.fit_transform(df['EJ'])"
      ],
      "metadata": {
        "id": "Z03N1L5DdzA-"
      },
      "execution_count": 33,
      "outputs": []
    },
    {
      "cell_type": "code",
      "source": [
        "df.head()"
      ],
      "metadata": {
        "colab": {
          "base_uri": "https://localhost:8080/",
          "height": 299
        },
        "id": "z9-6X9SjesIE",
        "outputId": "96d9d62b-7347-42a4-fd63-b12ab1967014"
      },
      "execution_count": 34,
      "outputs": [
        {
          "output_type": "execute_result",
          "data": {
            "text/plain": [
              "         AB          AF          AH         AM        AR        AX        AY  \\\n",
              "0  0.209377  3109.03329   85.200147  22.394407  8.138688  0.699861  0.025578   \n",
              "1  0.145282   978.76416   85.200147  36.968889  8.138688  3.632190  0.025578   \n",
              "2  0.470030  2635.10654   85.200147  32.360553  8.138688  6.732840  0.025578   \n",
              "3  0.252107  3819.65177  120.201618  77.112203  8.138688  3.685344  0.025578   \n",
              "4  0.380297  3733.04844   85.200147  14.103738  8.138688  3.942255  0.054810   \n",
              "\n",
              "          AZ          BC         BD   ...        FL        FR        FS  \\\n",
              "0   9.812214    5.555634  4126.58731  ...  7.298162   1.73855  0.094822   \n",
              "1  13.517790    1.229900  5496.92824  ...  0.173229   0.49706  0.568932   \n",
              "2  12.824570    1.229900  5135.78024  ...  7.709560   0.97556  1.198821   \n",
              "3  11.053708    1.229900  4169.67738  ...  6.122162   0.49706  0.284466   \n",
              "4   3.396778  102.151980  5728.73412  ...  8.153058  48.50134  0.121914   \n",
              "\n",
              "          GB          GE            GF         GH         GI         GL  Class  \n",
              "0  11.339138   72.611063   2003.810319  22.136229  69.834944   0.120343      1  \n",
              "1   9.292698   72.611063  27981.562750  29.135430  32.131996  21.978000      0  \n",
              "2  37.077772   88.609437  13676.957810  28.022851  35.192676   0.196941      0  \n",
              "3  18.529584   82.416803   2094.262452  39.948656  90.493248   0.155829      0  \n",
              "4  16.408728  146.109943   8524.370502  45.381316  36.262628   0.096614      1  \n",
              "\n",
              "[5 rows x 57 columns]"
            ],
            "text/html": [
              "\n",
              "  <div id=\"df-d9177879-313f-4b9f-b275-ed0b6a1859ba\">\n",
              "    <div class=\"colab-df-container\">\n",
              "      <div>\n",
              "<style scoped>\n",
              "    .dataframe tbody tr th:only-of-type {\n",
              "        vertical-align: middle;\n",
              "    }\n",
              "\n",
              "    .dataframe tbody tr th {\n",
              "        vertical-align: top;\n",
              "    }\n",
              "\n",
              "    .dataframe thead th {\n",
              "        text-align: right;\n",
              "    }\n",
              "</style>\n",
              "<table border=\"1\" class=\"dataframe\">\n",
              "  <thead>\n",
              "    <tr style=\"text-align: right;\">\n",
              "      <th></th>\n",
              "      <th>AB</th>\n",
              "      <th>AF</th>\n",
              "      <th>AH</th>\n",
              "      <th>AM</th>\n",
              "      <th>AR</th>\n",
              "      <th>AX</th>\n",
              "      <th>AY</th>\n",
              "      <th>AZ</th>\n",
              "      <th>BC</th>\n",
              "      <th>BD</th>\n",
              "      <th>...</th>\n",
              "      <th>FL</th>\n",
              "      <th>FR</th>\n",
              "      <th>FS</th>\n",
              "      <th>GB</th>\n",
              "      <th>GE</th>\n",
              "      <th>GF</th>\n",
              "      <th>GH</th>\n",
              "      <th>GI</th>\n",
              "      <th>GL</th>\n",
              "      <th>Class</th>\n",
              "    </tr>\n",
              "  </thead>\n",
              "  <tbody>\n",
              "    <tr>\n",
              "      <th>0</th>\n",
              "      <td>0.209377</td>\n",
              "      <td>3109.03329</td>\n",
              "      <td>85.200147</td>\n",
              "      <td>22.394407</td>\n",
              "      <td>8.138688</td>\n",
              "      <td>0.699861</td>\n",
              "      <td>0.025578</td>\n",
              "      <td>9.812214</td>\n",
              "      <td>5.555634</td>\n",
              "      <td>4126.58731</td>\n",
              "      <td>...</td>\n",
              "      <td>7.298162</td>\n",
              "      <td>1.73855</td>\n",
              "      <td>0.094822</td>\n",
              "      <td>11.339138</td>\n",
              "      <td>72.611063</td>\n",
              "      <td>2003.810319</td>\n",
              "      <td>22.136229</td>\n",
              "      <td>69.834944</td>\n",
              "      <td>0.120343</td>\n",
              "      <td>1</td>\n",
              "    </tr>\n",
              "    <tr>\n",
              "      <th>1</th>\n",
              "      <td>0.145282</td>\n",
              "      <td>978.76416</td>\n",
              "      <td>85.200147</td>\n",
              "      <td>36.968889</td>\n",
              "      <td>8.138688</td>\n",
              "      <td>3.632190</td>\n",
              "      <td>0.025578</td>\n",
              "      <td>13.517790</td>\n",
              "      <td>1.229900</td>\n",
              "      <td>5496.92824</td>\n",
              "      <td>...</td>\n",
              "      <td>0.173229</td>\n",
              "      <td>0.49706</td>\n",
              "      <td>0.568932</td>\n",
              "      <td>9.292698</td>\n",
              "      <td>72.611063</td>\n",
              "      <td>27981.562750</td>\n",
              "      <td>29.135430</td>\n",
              "      <td>32.131996</td>\n",
              "      <td>21.978000</td>\n",
              "      <td>0</td>\n",
              "    </tr>\n",
              "    <tr>\n",
              "      <th>2</th>\n",
              "      <td>0.470030</td>\n",
              "      <td>2635.10654</td>\n",
              "      <td>85.200147</td>\n",
              "      <td>32.360553</td>\n",
              "      <td>8.138688</td>\n",
              "      <td>6.732840</td>\n",
              "      <td>0.025578</td>\n",
              "      <td>12.824570</td>\n",
              "      <td>1.229900</td>\n",
              "      <td>5135.78024</td>\n",
              "      <td>...</td>\n",
              "      <td>7.709560</td>\n",
              "      <td>0.97556</td>\n",
              "      <td>1.198821</td>\n",
              "      <td>37.077772</td>\n",
              "      <td>88.609437</td>\n",
              "      <td>13676.957810</td>\n",
              "      <td>28.022851</td>\n",
              "      <td>35.192676</td>\n",
              "      <td>0.196941</td>\n",
              "      <td>0</td>\n",
              "    </tr>\n",
              "    <tr>\n",
              "      <th>3</th>\n",
              "      <td>0.252107</td>\n",
              "      <td>3819.65177</td>\n",
              "      <td>120.201618</td>\n",
              "      <td>77.112203</td>\n",
              "      <td>8.138688</td>\n",
              "      <td>3.685344</td>\n",
              "      <td>0.025578</td>\n",
              "      <td>11.053708</td>\n",
              "      <td>1.229900</td>\n",
              "      <td>4169.67738</td>\n",
              "      <td>...</td>\n",
              "      <td>6.122162</td>\n",
              "      <td>0.49706</td>\n",
              "      <td>0.284466</td>\n",
              "      <td>18.529584</td>\n",
              "      <td>82.416803</td>\n",
              "      <td>2094.262452</td>\n",
              "      <td>39.948656</td>\n",
              "      <td>90.493248</td>\n",
              "      <td>0.155829</td>\n",
              "      <td>0</td>\n",
              "    </tr>\n",
              "    <tr>\n",
              "      <th>4</th>\n",
              "      <td>0.380297</td>\n",
              "      <td>3733.04844</td>\n",
              "      <td>85.200147</td>\n",
              "      <td>14.103738</td>\n",
              "      <td>8.138688</td>\n",
              "      <td>3.942255</td>\n",
              "      <td>0.054810</td>\n",
              "      <td>3.396778</td>\n",
              "      <td>102.151980</td>\n",
              "      <td>5728.73412</td>\n",
              "      <td>...</td>\n",
              "      <td>8.153058</td>\n",
              "      <td>48.50134</td>\n",
              "      <td>0.121914</td>\n",
              "      <td>16.408728</td>\n",
              "      <td>146.109943</td>\n",
              "      <td>8524.370502</td>\n",
              "      <td>45.381316</td>\n",
              "      <td>36.262628</td>\n",
              "      <td>0.096614</td>\n",
              "      <td>1</td>\n",
              "    </tr>\n",
              "  </tbody>\n",
              "</table>\n",
              "<p>5 rows × 57 columns</p>\n",
              "</div>\n",
              "      <button class=\"colab-df-convert\" onclick=\"convertToInteractive('df-d9177879-313f-4b9f-b275-ed0b6a1859ba')\"\n",
              "              title=\"Convert this dataframe to an interactive table.\"\n",
              "              style=\"display:none;\">\n",
              "        \n",
              "  <svg xmlns=\"http://www.w3.org/2000/svg\" height=\"24px\"viewBox=\"0 0 24 24\"\n",
              "       width=\"24px\">\n",
              "    <path d=\"M0 0h24v24H0V0z\" fill=\"none\"/>\n",
              "    <path d=\"M18.56 5.44l.94 2.06.94-2.06 2.06-.94-2.06-.94-.94-2.06-.94 2.06-2.06.94zm-11 1L8.5 8.5l.94-2.06 2.06-.94-2.06-.94L8.5 2.5l-.94 2.06-2.06.94zm10 10l.94 2.06.94-2.06 2.06-.94-2.06-.94-.94-2.06-.94 2.06-2.06.94z\"/><path d=\"M17.41 7.96l-1.37-1.37c-.4-.4-.92-.59-1.43-.59-.52 0-1.04.2-1.43.59L10.3 9.45l-7.72 7.72c-.78.78-.78 2.05 0 2.83L4 21.41c.39.39.9.59 1.41.59.51 0 1.02-.2 1.41-.59l7.78-7.78 2.81-2.81c.8-.78.8-2.07 0-2.86zM5.41 20L4 18.59l7.72-7.72 1.47 1.35L5.41 20z\"/>\n",
              "  </svg>\n",
              "      </button>\n",
              "      \n",
              "  <style>\n",
              "    .colab-df-container {\n",
              "      display:flex;\n",
              "      flex-wrap:wrap;\n",
              "      gap: 12px;\n",
              "    }\n",
              "\n",
              "    .colab-df-convert {\n",
              "      background-color: #E8F0FE;\n",
              "      border: none;\n",
              "      border-radius: 50%;\n",
              "      cursor: pointer;\n",
              "      display: none;\n",
              "      fill: #1967D2;\n",
              "      height: 32px;\n",
              "      padding: 0 0 0 0;\n",
              "      width: 32px;\n",
              "    }\n",
              "\n",
              "    .colab-df-convert:hover {\n",
              "      background-color: #E2EBFA;\n",
              "      box-shadow: 0px 1px 2px rgba(60, 64, 67, 0.3), 0px 1px 3px 1px rgba(60, 64, 67, 0.15);\n",
              "      fill: #174EA6;\n",
              "    }\n",
              "\n",
              "    [theme=dark] .colab-df-convert {\n",
              "      background-color: #3B4455;\n",
              "      fill: #D2E3FC;\n",
              "    }\n",
              "\n",
              "    [theme=dark] .colab-df-convert:hover {\n",
              "      background-color: #434B5C;\n",
              "      box-shadow: 0px 1px 3px 1px rgba(0, 0, 0, 0.15);\n",
              "      filter: drop-shadow(0px 1px 2px rgba(0, 0, 0, 0.3));\n",
              "      fill: #FFFFFF;\n",
              "    }\n",
              "  </style>\n",
              "\n",
              "      <script>\n",
              "        const buttonEl =\n",
              "          document.querySelector('#df-d9177879-313f-4b9f-b275-ed0b6a1859ba button.colab-df-convert');\n",
              "        buttonEl.style.display =\n",
              "          google.colab.kernel.accessAllowed ? 'block' : 'none';\n",
              "\n",
              "        async function convertToInteractive(key) {\n",
              "          const element = document.querySelector('#df-d9177879-313f-4b9f-b275-ed0b6a1859ba');\n",
              "          const dataTable =\n",
              "            await google.colab.kernel.invokeFunction('convertToInteractive',\n",
              "                                                     [key], {});\n",
              "          if (!dataTable) return;\n",
              "\n",
              "          const docLinkHtml = 'Like what you see? Visit the ' +\n",
              "            '<a target=\"_blank\" href=https://colab.research.google.com/notebooks/data_table.ipynb>data table notebook</a>'\n",
              "            + ' to learn more about interactive tables.';\n",
              "          element.innerHTML = '';\n",
              "          dataTable['output_type'] = 'display_data';\n",
              "          await google.colab.output.renderOutput(dataTable, element);\n",
              "          const docLink = document.createElement('div');\n",
              "          docLink.innerHTML = docLinkHtml;\n",
              "          element.appendChild(docLink);\n",
              "        }\n",
              "      </script>\n",
              "    </div>\n",
              "  </div>\n",
              "  "
            ]
          },
          "metadata": {},
          "execution_count": 34
        }
      ]
    },
    {
      "cell_type": "code",
      "source": [
        "df.info()"
      ],
      "metadata": {
        "colab": {
          "base_uri": "https://localhost:8080/"
        },
        "id": "iTUCw6xyVOfT",
        "outputId": "a3a0c842-9ae3-4b84-c048-b08b7e06aaea"
      },
      "execution_count": 19,
      "outputs": [
        {
          "output_type": "stream",
          "name": "stdout",
          "text": [
            "<class 'pandas.core.frame.DataFrame'>\n",
            "RangeIndex: 617 entries, 0 to 616\n",
            "Data columns (total 57 columns):\n",
            " #   Column  Non-Null Count  Dtype  \n",
            "---  ------  --------------  -----  \n",
            " 0   AB      617 non-null    float64\n",
            " 1   AF      617 non-null    float64\n",
            " 2   AH      617 non-null    float64\n",
            " 3   AM      617 non-null    float64\n",
            " 4   AR      617 non-null    float64\n",
            " 5   AX      617 non-null    float64\n",
            " 6   AY      617 non-null    float64\n",
            " 7   AZ      617 non-null    float64\n",
            " 8   BC      617 non-null    float64\n",
            " 9   BD      617 non-null    float64\n",
            " 10  BN      617 non-null    float64\n",
            " 11  BP      617 non-null    float64\n",
            " 12  BQ      617 non-null    float64\n",
            " 13  BR      617 non-null    float64\n",
            " 14  BZ      617 non-null    float64\n",
            " 15  CB      617 non-null    float64\n",
            " 16  CC      617 non-null    float64\n",
            " 17  CD      617 non-null    float64\n",
            " 18  CF      617 non-null    float64\n",
            " 19  CH      617 non-null    float64\n",
            " 20  CL      617 non-null    float64\n",
            " 21  CR      617 non-null    float64\n",
            " 22  CS      617 non-null    float64\n",
            " 23  CU      617 non-null    float64\n",
            " 24  CW      617 non-null    float64\n",
            " 25  DA      617 non-null    float64\n",
            " 26  DE      617 non-null    float64\n",
            " 27  DF      617 non-null    float64\n",
            " 28  DH      617 non-null    float64\n",
            " 29  DI      617 non-null    float64\n",
            " 30  DL      617 non-null    float64\n",
            " 31  DN      617 non-null    float64\n",
            " 32  DU      617 non-null    float64\n",
            " 33  DV      617 non-null    float64\n",
            " 34  DY      617 non-null    float64\n",
            " 35  EB      617 non-null    float64\n",
            " 36  EE      617 non-null    float64\n",
            " 37  EG      617 non-null    float64\n",
            " 38  EH      617 non-null    float64\n",
            " 39  EJ      617 non-null    object \n",
            " 40  EL      617 non-null    float64\n",
            " 41  EP      617 non-null    float64\n",
            " 42  EU      617 non-null    float64\n",
            " 43  FC      617 non-null    float64\n",
            " 44  FD      617 non-null    float64\n",
            " 45  FE      617 non-null    float64\n",
            " 46  FI      617 non-null    float64\n",
            " 47  FL      617 non-null    float64\n",
            " 48  FR      617 non-null    float64\n",
            " 49  FS      617 non-null    float64\n",
            " 50  GB      617 non-null    float64\n",
            " 51  GE      617 non-null    float64\n",
            " 52  GF      617 non-null    float64\n",
            " 53  GH      617 non-null    float64\n",
            " 54  GI      617 non-null    float64\n",
            " 55  GL      617 non-null    float64\n",
            " 56  Class   617 non-null    int64  \n",
            "dtypes: float64(55), int64(1), object(1)\n",
            "memory usage: 274.9+ KB\n"
          ]
        }
      ]
    },
    {
      "cell_type": "code",
      "source": [
        "# check NAN values\n",
        "df.isnull().sum()"
      ],
      "metadata": {
        "id": "Ah-CMIS-VaFt"
      },
      "execution_count": null,
      "outputs": []
    },
    {
      "cell_type": "code",
      "source": [
        "# visualize missing values\n",
        "sns.heatmap(df.isnull());"
      ],
      "metadata": {
        "colab": {
          "base_uri": "https://localhost:8080/",
          "height": 459
        },
        "id": "-T8F2LA2VlBd",
        "outputId": "5ec78418-a8f0-490f-dd29-f9046ae482f6"
      },
      "execution_count": 9,
      "outputs": [
        {
          "output_type": "display_data",
          "data": {
            "text/plain": [
              "<Figure size 640x480 with 2 Axes>"
            ],
            "image/png": "[encoded data removed]"
          },
          "metadata": {}
        }
      ]
    },
    {
      "cell_type": "code",
      "source": [
        "# fill NaN in EL by  mean\n",
        "df.EL.fillna(df.EL.mean(), inplace = True)\n",
        "test_df.EL.fillna(df.EL.mean(), inplace = True)"
      ],
      "metadata": {
        "id": "KbOszSLsVtbV"
      },
      "execution_count": 10,
      "outputs": []
    },
    {
      "cell_type": "code",
      "source": [
        "df.EL.isnull().sum()"
      ],
      "metadata": {
        "colab": {
          "base_uri": "https://localhost:8080/"
        },
        "id": "3dh5GldoWDbh",
        "outputId": "4b48aaf0-b67e-46d9-9a5f-3cbd5742540d"
      },
      "execution_count": 11,
      "outputs": [
        {
          "output_type": "execute_result",
          "data": {
            "text/plain": [
              "0"
            ]
          },
          "metadata": {},
          "execution_count": 11
        }
      ]
    },
    {
      "cell_type": "code",
      "source": [
        "# fill NaN in BQ by  mean\n",
        "df.BQ.fillna(df.BQ.mean(), inplace = True)\n",
        "test_df.BQ.fillna(df.BQ.mean(), inplace = True)"
      ],
      "metadata": {
        "id": "vTvWB5ScWK74"
      },
      "execution_count": 13,
      "outputs": []
    },
    {
      "cell_type": "code",
      "source": [
        "df.isnull().sum()"
      ],
      "metadata": {
        "id": "qO0GceIrWgQj"
      },
      "execution_count": null,
      "outputs": []
    },
    {
      "cell_type": "code",
      "source": [
        "# no duplicate values\n",
        "df.duplicated().any()"
      ],
      "metadata": {
        "colab": {
          "base_uri": "https://localhost:8080/"
        },
        "id": "FUR-Pw_fX1Mz",
        "outputId": "fdb9fae9-257e-47bf-f152-032b0aaec667"
      },
      "execution_count": 15,
      "outputs": [
        {
          "output_type": "execute_result",
          "data": {
            "text/plain": [
              "False"
            ]
          },
          "metadata": {},
          "execution_count": 15
        }
      ]
    },
    {
      "cell_type": "markdown",
      "source": [
        "Removing unnessacary coloumns"
      ],
      "metadata": {
        "id": "6WP-NxVbYRPN"
      }
    },
    {
      "cell_type": "code",
      "source": [
        "df.drop(['Id'], axis=1,  inplace=True)\n",
        "\n",
        "test_df_passenger_id = test_df.Id\n",
        "test_df.drop(['Id'], axis=1,  inplace=True)"
      ],
      "metadata": {
        "id": "89akU7ujX_FE"
      },
      "execution_count": 16,
      "outputs": []
    },
    {
      "cell_type": "code",
      "source": [
        "df.head()"
      ],
      "metadata": {
        "id": "Tk8dOu21YNGN"
      },
      "execution_count": null,
      "outputs": []
    },
    {
      "cell_type": "markdown",
      "source": [
        "BUILD ML MODEL"
      ],
      "metadata": {
        "id": "YPy3SaIDZJHn"
      }
    },
    {
      "cell_type": "code",
      "source": [
        "import pandas as pd\n",
        "\n",
        "# Assuming your dataframe is named \"df\"\n",
        "features = df.iloc[:, :-1]  # Selecting all rows and all columns except the last one\n",
        "target = df.iloc[:, -1]     # Selecting all rows and the last column\n",
        "\n",
        "# Alternatively, you can use column names if available\n",
        "# features = df.drop(columns=['target_column_name'])\n",
        "# target = df['target_column_name']\n",
        "\n",
        "# Printing the resulting dataframes\n",
        "print(\"Features:\")\n",
        "print(features.head())    # Displaying the first few rows of the features dataframe\n",
        "print(\"\\nTarget:\")\n",
        "print(target.head())      # Displaying the first few rows of the target dataframe\n"
      ],
      "metadata": {
        "colab": {
          "base_uri": "https://localhost:8080/"
        },
        "id": "y3CSx_92YOV3",
        "outputId": "176af57d-a3d9-4aa0-abe4-4defcc4a148c"
      },
      "execution_count": 35,
      "outputs": [
        {
          "output_type": "stream",
          "name": "stdout",
          "text": [
            "Features:\n",
            "         AB          AF          AH         AM        AR        AX        AY  \\\n",
            "0  0.209377  3109.03329   85.200147  22.394407  8.138688  0.699861  0.025578   \n",
            "1  0.145282   978.76416   85.200147  36.968889  8.138688  3.632190  0.025578   \n",
            "2  0.470030  2635.10654   85.200147  32.360553  8.138688  6.732840  0.025578   \n",
            "3  0.252107  3819.65177  120.201618  77.112203  8.138688  3.685344  0.025578   \n",
            "4  0.380297  3733.04844   85.200147  14.103738  8.138688  3.942255  0.054810   \n",
            "\n",
            "          AZ          BC         BD   ...         FI        FL        FR  \\\n",
            "0   9.812214    5.555634  4126.58731  ...   3.583450  7.298162   1.73855   \n",
            "1  13.517790    1.229900  5496.92824  ...  10.358927  0.173229   0.49706   \n",
            "2  12.824570    1.229900  5135.78024  ...  11.626917  7.709560   0.97556   \n",
            "3  11.053708    1.229900  4169.67738  ...  14.852022  6.122162   0.49706   \n",
            "4   3.396778  102.151980  5728.73412  ...  13.666727  8.153058  48.50134   \n",
            "\n",
            "         FS         GB          GE            GF         GH         GI  \\\n",
            "0  0.094822  11.339138   72.611063   2003.810319  22.136229  69.834944   \n",
            "1  0.568932   9.292698   72.611063  27981.562750  29.135430  32.131996   \n",
            "2  1.198821  37.077772   88.609437  13676.957810  28.022851  35.192676   \n",
            "3  0.284466  18.529584   82.416803   2094.262452  39.948656  90.493248   \n",
            "4  0.121914  16.408728  146.109943   8524.370502  45.381316  36.262628   \n",
            "\n",
            "          GL  \n",
            "0   0.120343  \n",
            "1  21.978000  \n",
            "2   0.196941  \n",
            "3   0.155829  \n",
            "4   0.096614  \n",
            "\n",
            "[5 rows x 56 columns]\n",
            "\n",
            "Target:\n",
            "0    1\n",
            "1    0\n",
            "2    0\n",
            "3    0\n",
            "4    1\n",
            "Name: Class, dtype: int64\n"
          ]
        }
      ]
    },
    {
      "cell_type": "code",
      "source": [
        "# Target\n",
        "y = target\n",
        "# Feathers\n",
        "x = features"
      ],
      "metadata": {
        "id": "YdTSMPuNat7s"
      },
      "execution_count": 36,
      "outputs": []
    },
    {
      "cell_type": "code",
      "source": [
        "x"
      ],
      "metadata": {
        "id": "2fOOSxDXgMpn"
      },
      "execution_count": null,
      "outputs": []
    },
    {
      "cell_type": "code",
      "source": [
        "# dividing data into training and test data.\n",
        "X_train, X_test, y_train, y_test = train_test_split(x, y, test_size=0.2, random_state=30)"
      ],
      "metadata": {
        "id": "J_wW69SabLpq"
      },
      "execution_count": 37,
      "outputs": []
    },
    {
      "cell_type": "code",
      "source": [],
      "metadata": {
        "id": "wg39blR2b39E"
      },
      "execution_count": null,
      "outputs": []
    },
    {
      "cell_type": "code",
      "source": [
        "# use sklearn Logistic Regression to fit a logistic model\n",
        "# logistic model\n",
        "log_mod = LogisticRegression(max_iter=5000)\n",
        "# fit logistic model using train data\n",
        "log_mod.fit(X_train, y_train)\n",
        "# predict y based on x\n",
        "preds = log_mod.predict(X_test)"
      ],
      "metadata": {
        "colab": {
          "base_uri": "https://localhost:8080/"
        },
        "id": "6kryJimFbfUJ",
        "outputId": "7cce41a5-c4a4-4828-bf41-0ad60badb88f"
      },
      "execution_count": 46,
      "outputs": [
        {
          "output_type": "stream",
          "name": "stderr",
          "text": [
            "/usr/local/lib/python3.10/dist-packages/sklearn/linear_model/_logistic.py:458: ConvergenceWarning: lbfgs failed to converge (status=1):\n",
            "STOP: TOTAL NO. of f AND g EVALUATIONS EXCEEDS LIMIT.\n",
            "\n",
            "Increase the number of iterations (max_iter) or scale the data as shown in:\n",
            "    https://scikit-learn.org/stable/modules/preprocessing.html\n",
            "Please also refer to the documentation for alternative solver options:\n",
            "    https://scikit-learn.org/stable/modules/linear_model.html#logistic-regression\n",
            "  n_iter_i = _check_optimize_result(\n"
          ]
        }
      ]
    },
    {
      "cell_type": "code",
      "source": [
        "from sklearn.preprocessing import StandardScaler\n",
        "\n",
        "# Assuming you have defined your feature data as X_train and X_test\n",
        "scaler = StandardScaler()\n",
        "X_train_scaled = scaler.fit_transform(X_train)\n",
        "X_test_scaled = scaler.transform(X_test)\n",
        "\n",
        "# Fit logistic model using scaled data\n",
        "log_mod = LogisticRegression(max_iter=5000)\n",
        "log_mod.fit(X_train_scaled, y_train)\n",
        "preds = log_mod.predict(X_test_scaled)\n"
      ],
      "metadata": {
        "id": "XUWzUya0hFzT"
      },
      "execution_count": 47,
      "outputs": []
    },
    {
      "cell_type": "code",
      "source": [
        "preds"
      ],
      "metadata": {
        "colab": {
          "base_uri": "https://localhost:8080/"
        },
        "id": "PN39eMWShHtN",
        "outputId": "e7f13ad0-ad75-4c6e-ebee-576678ba5b88"
      },
      "execution_count": 48,
      "outputs": [
        {
          "output_type": "execute_result",
          "data": {
            "text/plain": [
              "array([0, 0, 0, 0, 0, 0, 1, 0, 0, 1, 1, 0, 0, 0, 0, 0, 0, 0, 0, 1, 0, 0,\n",
              "       0, 0, 0, 0, 1, 0, 0, 0, 1, 0, 0, 0, 0, 1, 0, 0, 0, 0, 0, 0, 0, 0,\n",
              "       0, 0, 0, 0, 0, 0, 0, 0, 0, 1, 1, 0, 0, 0, 0, 0, 0, 0, 0, 0, 1, 0,\n",
              "       0, 0, 0, 0, 0, 1, 0, 0, 1, 0, 0, 0, 0, 0, 0, 0, 0, 0, 0, 1, 0, 0,\n",
              "       0, 1, 0, 0, 0, 0, 0, 0, 0, 0, 1, 0, 0, 0, 0, 0, 0, 0, 0, 1, 0, 0,\n",
              "       0, 0, 0, 0, 0, 0, 0, 0, 0, 0, 0, 1, 0, 0])"
            ]
          },
          "metadata": {},
          "execution_count": 48
        }
      ]
    },
    {
      "cell_type": "code",
      "source": [
        "# real values that we're trying to predict\n",
        "y_test.values"
      ],
      "metadata": {
        "colab": {
          "base_uri": "https://localhost:8080/"
        },
        "id": "e35B_m9fhIkZ",
        "outputId": "0f9fa3cb-69fc-4ebf-da97-c9add6d5a5e1"
      },
      "execution_count": 49,
      "outputs": [
        {
          "output_type": "execute_result",
          "data": {
            "text/plain": [
              "array([0, 0, 0, 0, 0, 0, 1, 0, 0, 1, 1, 0, 0, 0, 0, 0, 0, 1, 0, 1, 0, 0,\n",
              "       0, 0, 0, 0, 0, 0, 0, 0, 1, 0, 0, 0, 0, 1, 0, 0, 0, 0, 1, 0, 0, 0,\n",
              "       0, 0, 0, 1, 0, 0, 0, 0, 0, 1, 1, 0, 0, 0, 0, 1, 0, 0, 0, 0, 0, 0,\n",
              "       0, 0, 0, 0, 0, 1, 0, 0, 1, 0, 0, 0, 0, 0, 0, 0, 0, 0, 0, 1, 0, 0,\n",
              "       0, 0, 0, 0, 0, 0, 0, 0, 0, 0, 0, 0, 0, 0, 0, 0, 0, 0, 0, 1, 0, 0,\n",
              "       1, 0, 0, 0, 0, 0, 0, 0, 0, 1, 0, 1, 0, 0])"
            ]
          },
          "metadata": {},
          "execution_count": 49
        }
      ]
    },
    {
      "cell_type": "code",
      "source": [
        "confusion_matrix(y_test, preds)"
      ],
      "metadata": {
        "colab": {
          "base_uri": "https://localhost:8080/"
        },
        "id": "j1hQ2wbQhOpR",
        "outputId": "e1ab6908-3b2a-4e76-cdce-b3c858f8baf8"
      },
      "execution_count": 50,
      "outputs": [
        {
          "output_type": "execute_result",
          "data": {
            "text/plain": [
              "array([[101,   4],\n",
              "       [  6,  13]])"
            ]
          },
          "metadata": {},
          "execution_count": 50
        }
      ]
    },
    {
      "cell_type": "code",
      "source": [
        "import numpy as np\n",
        "import matplotlib.pyplot as plt\n",
        "from sklearn.linear_model import LogisticRegression\n",
        "\n",
        "# Assuming you have defined your feature data as X_train and target data as y_train\n",
        "# Calculate the training scores\n",
        "train_scores = log_mod.decision_function(X_train)\n",
        "\n",
        "# Calculate the loss approximation using the training scores\n",
        "loss_values = np.log(1 + np.exp(-y_train * train_scores))\n",
        "\n",
        "# Plot the loss curve\n",
        "plt.plot(loss_values)\n",
        "plt.xlabel('Iterations')\n",
        "plt.ylabel('Loss')\n",
        "plt.title('Loss Function for Logistic Regression')\n",
        "plt.show()\n"
      ],
      "metadata": {
        "id": "0u_1_lBYhbyp"
      },
      "execution_count": null,
      "outputs": []
    },
    {
      "cell_type": "code",
      "source": [
        "test_df.isnull().sum()"
      ],
      "metadata": {
        "id": "_PbMkbpviT8m"
      },
      "execution_count": null,
      "outputs": []
    },
    {
      "cell_type": "code",
      "source": [
        "test_df.head()"
      ],
      "metadata": {
        "colab": {
          "base_uri": "https://localhost:8080/",
          "height": 235
        },
        "id": "vlw6vNVrkErr",
        "outputId": "6997bd51-5db5-436b-9223-f938cbfe429d"
      },
      "execution_count": 65,
      "outputs": [
        {
          "output_type": "execute_result",
          "data": {
            "text/plain": [
              "    AB   AF   AH   AM   AR   AX   AY   AZ   BC  BD   ...   FI   FL   FR   FS  \\\n",
              "0  0.0  0.0  0.0  0.0  0.0  0.0  0.0  0.0  0.0  0.0  ...  0.0  0.0  0.0  0.0   \n",
              "1  0.0  0.0  0.0  0.0  0.0  0.0  0.0  0.0  0.0  0.0  ...  0.0  0.0  0.0  0.0   \n",
              "2  0.0  0.0  0.0  0.0  0.0  0.0  0.0  0.0  0.0  0.0  ...  0.0  0.0  0.0  0.0   \n",
              "3  0.0  0.0  0.0  0.0  0.0  0.0  0.0  0.0  0.0  0.0  ...  0.0  0.0  0.0  0.0   \n",
              "4  0.0  0.0  0.0  0.0  0.0  0.0  0.0  0.0  0.0  0.0  ...  0.0  0.0  0.0  0.0   \n",
              "\n",
              "    GB   GE   GF   GH   GI   GL  \n",
              "0  0.0  0.0  0.0  0.0  0.0  0.0  \n",
              "1  0.0  0.0  0.0  0.0  0.0  0.0  \n",
              "2  0.0  0.0  0.0  0.0  0.0  0.0  \n",
              "3  0.0  0.0  0.0  0.0  0.0  0.0  \n",
              "4  0.0  0.0  0.0  0.0  0.0  0.0  \n",
              "\n",
              "[5 rows x 56 columns]"
            ],
            "text/html": [
              "\n",
              "  <div id=\"df-e63e6bf9-4606-4b44-ac56-7eacb8a7ea95\">\n",
              "    <div class=\"colab-df-container\">\n",
              "      <div>\n",
              "<style scoped>\n",
              "    .dataframe tbody tr th:only-of-type {\n",
              "        vertical-align: middle;\n",
              "    }\n",
              "\n",
              "    .dataframe tbody tr th {\n",
              "        vertical-align: top;\n",
              "    }\n",
              "\n",
              "    .dataframe thead th {\n",
              "        text-align: right;\n",
              "    }\n",
              "</style>\n",
              "<table border=\"1\" class=\"dataframe\">\n",
              "  <thead>\n",
              "    <tr style=\"text-align: right;\">\n",
              "      <th></th>\n",
              "      <th>AB</th>\n",
              "      <th>AF</th>\n",
              "      <th>AH</th>\n",
              "      <th>AM</th>\n",
              "      <th>AR</th>\n",
              "      <th>AX</th>\n",
              "      <th>AY</th>\n",
              "      <th>AZ</th>\n",
              "      <th>BC</th>\n",
              "      <th>BD</th>\n",
              "      <th>...</th>\n",
              "      <th>FI</th>\n",
              "      <th>FL</th>\n",
              "      <th>FR</th>\n",
              "      <th>FS</th>\n",
              "      <th>GB</th>\n",
              "      <th>GE</th>\n",
              "      <th>GF</th>\n",
              "      <th>GH</th>\n",
              "      <th>GI</th>\n",
              "      <th>GL</th>\n",
              "    </tr>\n",
              "  </thead>\n",
              "  <tbody>\n",
              "    <tr>\n",
              "      <th>0</th>\n",
              "      <td>0.0</td>\n",
              "      <td>0.0</td>\n",
              "      <td>0.0</td>\n",
              "      <td>0.0</td>\n",
              "      <td>0.0</td>\n",
              "      <td>0.0</td>\n",
              "      <td>0.0</td>\n",
              "      <td>0.0</td>\n",
              "      <td>0.0</td>\n",
              "      <td>0.0</td>\n",
              "      <td>...</td>\n",
              "      <td>0.0</td>\n",
              "      <td>0.0</td>\n",
              "      <td>0.0</td>\n",
              "      <td>0.0</td>\n",
              "      <td>0.0</td>\n",
              "      <td>0.0</td>\n",
              "      <td>0.0</td>\n",
              "      <td>0.0</td>\n",
              "      <td>0.0</td>\n",
              "      <td>0.0</td>\n",
              "    </tr>\n",
              "    <tr>\n",
              "      <th>1</th>\n",
              "      <td>0.0</td>\n",
              "      <td>0.0</td>\n",
              "      <td>0.0</td>\n",
              "      <td>0.0</td>\n",
              "      <td>0.0</td>\n",
              "      <td>0.0</td>\n",
              "      <td>0.0</td>\n",
              "      <td>0.0</td>\n",
              "      <td>0.0</td>\n",
              "      <td>0.0</td>\n",
              "      <td>...</td>\n",
              "      <td>0.0</td>\n",
              "      <td>0.0</td>\n",
              "      <td>0.0</td>\n",
              "      <td>0.0</td>\n",
              "      <td>0.0</td>\n",
              "      <td>0.0</td>\n",
              "      <td>0.0</td>\n",
              "      <td>0.0</td>\n",
              "      <td>0.0</td>\n",
              "      <td>0.0</td>\n",
              "    </tr>\n",
              "    <tr>\n",
              "      <th>2</th>\n",
              "      <td>0.0</td>\n",
              "      <td>0.0</td>\n",
              "      <td>0.0</td>\n",
              "      <td>0.0</td>\n",
              "      <td>0.0</td>\n",
              "      <td>0.0</td>\n",
              "      <td>0.0</td>\n",
              "      <td>0.0</td>\n",
              "      <td>0.0</td>\n",
              "      <td>0.0</td>\n",
              "      <td>...</td>\n",
              "      <td>0.0</td>\n",
              "      <td>0.0</td>\n",
              "      <td>0.0</td>\n",
              "      <td>0.0</td>\n",
              "      <td>0.0</td>\n",
              "      <td>0.0</td>\n",
              "      <td>0.0</td>\n",
              "      <td>0.0</td>\n",
              "      <td>0.0</td>\n",
              "      <td>0.0</td>\n",
              "    </tr>\n",
              "    <tr>\n",
              "      <th>3</th>\n",
              "      <td>0.0</td>\n",
              "      <td>0.0</td>\n",
              "      <td>0.0</td>\n",
              "      <td>0.0</td>\n",
              "      <td>0.0</td>\n",
              "      <td>0.0</td>\n",
              "      <td>0.0</td>\n",
              "      <td>0.0</td>\n",
              "      <td>0.0</td>\n",
              "      <td>0.0</td>\n",
              "      <td>...</td>\n",
              "      <td>0.0</td>\n",
              "      <td>0.0</td>\n",
              "      <td>0.0</td>\n",
              "      <td>0.0</td>\n",
              "      <td>0.0</td>\n",
              "      <td>0.0</td>\n",
              "      <td>0.0</td>\n",
              "      <td>0.0</td>\n",
              "      <td>0.0</td>\n",
              "      <td>0.0</td>\n",
              "    </tr>\n",
              "    <tr>\n",
              "      <th>4</th>\n",
              "      <td>0.0</td>\n",
              "      <td>0.0</td>\n",
              "      <td>0.0</td>\n",
              "      <td>0.0</td>\n",
              "      <td>0.0</td>\n",
              "      <td>0.0</td>\n",
              "      <td>0.0</td>\n",
              "      <td>0.0</td>\n",
              "      <td>0.0</td>\n",
              "      <td>0.0</td>\n",
              "      <td>...</td>\n",
              "      <td>0.0</td>\n",
              "      <td>0.0</td>\n",
              "      <td>0.0</td>\n",
              "      <td>0.0</td>\n",
              "      <td>0.0</td>\n",
              "      <td>0.0</td>\n",
              "      <td>0.0</td>\n",
              "      <td>0.0</td>\n",
              "      <td>0.0</td>\n",
              "      <td>0.0</td>\n",
              "    </tr>\n",
              "  </tbody>\n",
              "</table>\n",
              "<p>5 rows × 56 columns</p>\n",
              "</div>\n",
              "      <button class=\"colab-df-convert\" onclick=\"convertToInteractive('df-e63e6bf9-4606-4b44-ac56-7eacb8a7ea95')\"\n",
              "              title=\"Convert this dataframe to an interactive table.\"\n",
              "              style=\"display:none;\">\n",
              "        \n",
              "  <svg xmlns=\"http://www.w3.org/2000/svg\" height=\"24px\"viewBox=\"0 0 24 24\"\n",
              "       width=\"24px\">\n",
              "    <path d=\"M0 0h24v24H0V0z\" fill=\"none\"/>\n",
              "    <path d=\"M18.56 5.44l.94 2.06.94-2.06 2.06-.94-2.06-.94-.94-2.06-.94 2.06-2.06.94zm-11 1L8.5 8.5l.94-2.06 2.06-.94-2.06-.94L8.5 2.5l-.94 2.06-2.06.94zm10 10l.94 2.06.94-2.06 2.06-.94-2.06-.94-.94-2.06-.94 2.06-2.06.94z\"/><path d=\"M17.41 7.96l-1.37-1.37c-.4-.4-.92-.59-1.43-.59-.52 0-1.04.2-1.43.59L10.3 9.45l-7.72 7.72c-.78.78-.78 2.05 0 2.83L4 21.41c.39.39.9.59 1.41.59.51 0 1.02-.2 1.41-.59l7.78-7.78 2.81-2.81c.8-.78.8-2.07 0-2.86zM5.41 20L4 18.59l7.72-7.72 1.47 1.35L5.41 20z\"/>\n",
              "  </svg>\n",
              "      </button>\n",
              "      \n",
              "  <style>\n",
              "    .colab-df-container {\n",
              "      display:flex;\n",
              "      flex-wrap:wrap;\n",
              "      gap: 12px;\n",
              "    }\n",
              "\n",
              "    .colab-df-convert {\n",
              "      background-color: #E8F0FE;\n",
              "      border: none;\n",
              "      border-radius: 50%;\n",
              "      cursor: pointer;\n",
              "      display: none;\n",
              "      fill: #1967D2;\n",
              "      height: 32px;\n",
              "      padding: 0 0 0 0;\n",
              "      width: 32px;\n",
              "    }\n",
              "\n",
              "    .colab-df-convert:hover {\n",
              "      background-color: #E2EBFA;\n",
              "      box-shadow: 0px 1px 2px rgba(60, 64, 67, 0.3), 0px 1px 3px 1px rgba(60, 64, 67, 0.15);\n",
              "      fill: #174EA6;\n",
              "    }\n",
              "\n",
              "    [theme=dark] .colab-df-convert {\n",
              "      background-color: #3B4455;\n",
              "      fill: #D2E3FC;\n",
              "    }\n",
              "\n",
              "    [theme=dark] .colab-df-convert:hover {\n",
              "      background-color: #434B5C;\n",
              "      box-shadow: 0px 1px 3px 1px rgba(0, 0, 0, 0.15);\n",
              "      filter: drop-shadow(0px 1px 2px rgba(0, 0, 0, 0.3));\n",
              "      fill: #FFFFFF;\n",
              "    }\n",
              "  </style>\n",
              "\n",
              "      <script>\n",
              "        const buttonEl =\n",
              "          document.querySelector('#df-e63e6bf9-4606-4b44-ac56-7eacb8a7ea95 button.colab-df-convert');\n",
              "        buttonEl.style.display =\n",
              "          google.colab.kernel.accessAllowed ? 'block' : 'none';\n",
              "\n",
              "        async function convertToInteractive(key) {\n",
              "          const element = document.querySelector('#df-e63e6bf9-4606-4b44-ac56-7eacb8a7ea95');\n",
              "          const dataTable =\n",
              "            await google.colab.kernel.invokeFunction('convertToInteractive',\n",
              "                                                     [key], {});\n",
              "          if (!dataTable) return;\n",
              "\n",
              "          const docLinkHtml = 'Like what you see? Visit the ' +\n",
              "            '<a target=\"_blank\" href=https://colab.research.google.com/notebooks/data_table.ipynb>data table notebook</a>'\n",
              "            + ' to learn more about interactive tables.';\n",
              "          element.innerHTML = '';\n",
              "          dataTable['output_type'] = 'display_data';\n",
              "          await google.colab.output.renderOutput(dataTable, element);\n",
              "          const docLink = document.createElement('div');\n",
              "          docLink.innerHTML = docLinkHtml;\n",
              "          element.appendChild(docLink);\n",
              "        }\n",
              "      </script>\n",
              "    </div>\n",
              "  </div>\n",
              "  "
            ]
          },
          "metadata": {},
          "execution_count": 65
        }
      ]
    },
    {
      "cell_type": "code",
      "source": [
        "subm_preds = log_mod.predict(test_df)\n",
        "subm_preds"
      ],
      "metadata": {
        "colab": {
          "base_uri": "https://localhost:8080/",
          "height": 328
        },
        "id": "CO3FsL8kjKlr",
        "outputId": "90511245-a25c-495c-a3de-dbfa33ab4aee"
      },
      "execution_count": 64,
      "outputs": [
        {
          "output_type": "error",
          "ename": "ValueError",
          "evalue": "ignored",
          "traceback": [
            "\u001b[0;31m---------------------------------------------------------------------------\u001b[0m",
            "\u001b[0;31mValueError\u001b[0m                                Traceback (most recent call last)",
            "\u001b[0;32m<ipython-input-64-dcf22ba738cb>\u001b[0m in \u001b[0;36m<cell line: 1>\u001b[0;34m()\u001b[0m\n\u001b[0;32m----> 1\u001b[0;31m \u001b[0msubm_preds\u001b[0m \u001b[0;34m=\u001b[0m \u001b[0mlog_mod\u001b[0m\u001b[0;34m.\u001b[0m\u001b[0mpredict\u001b[0m\u001b[0;34m(\u001b[0m\u001b[0mtest_df\u001b[0m\u001b[0;34m)\u001b[0m\u001b[0;34m\u001b[0m\u001b[0;34m\u001b[0m\u001b[0m\n\u001b[0m\u001b[1;32m      2\u001b[0m \u001b[0msubm_preds\u001b[0m\u001b[0;34m\u001b[0m\u001b[0;34m\u001b[0m\u001b[0m\n",
            "\u001b[0;32m/usr/local/lib/python3.10/dist-packages/sklearn/linear_model/_base.py\u001b[0m in \u001b[0;36mpredict\u001b[0;34m(self, X)\u001b[0m\n\u001b[1;32m    417\u001b[0m         \"\"\"\n\u001b[1;32m    418\u001b[0m         \u001b[0mxp\u001b[0m\u001b[0;34m,\u001b[0m \u001b[0m_\u001b[0m \u001b[0;34m=\u001b[0m \u001b[0mget_namespace\u001b[0m\u001b[0;34m(\u001b[0m\u001b[0mX\u001b[0m\u001b[0;34m)\u001b[0m\u001b[0;34m\u001b[0m\u001b[0;34m\u001b[0m\u001b[0m\n\u001b[0;32m--> 419\u001b[0;31m         \u001b[0mscores\u001b[0m \u001b[0;34m=\u001b[0m \u001b[0mself\u001b[0m\u001b[0;34m.\u001b[0m\u001b[0mdecision_function\u001b[0m\u001b[0;34m(\u001b[0m\u001b[0mX\u001b[0m\u001b[0;34m)\u001b[0m\u001b[0;34m\u001b[0m\u001b[0;34m\u001b[0m\u001b[0m\n\u001b[0m\u001b[1;32m    420\u001b[0m         \u001b[0;32mif\u001b[0m \u001b[0mlen\u001b[0m\u001b[0;34m(\u001b[0m\u001b[0mscores\u001b[0m\u001b[0;34m.\u001b[0m\u001b[0mshape\u001b[0m\u001b[0;34m)\u001b[0m \u001b[0;34m==\u001b[0m \u001b[0;36m1\u001b[0m\u001b[0;34m:\u001b[0m\u001b[0;34m\u001b[0m\u001b[0;34m\u001b[0m\u001b[0m\n\u001b[1;32m    421\u001b[0m             \u001b[0mindices\u001b[0m \u001b[0;34m=\u001b[0m \u001b[0mxp\u001b[0m\u001b[0;34m.\u001b[0m\u001b[0mastype\u001b[0m\u001b[0;34m(\u001b[0m\u001b[0mscores\u001b[0m \u001b[0;34m>\u001b[0m \u001b[0;36m0\u001b[0m\u001b[0;34m,\u001b[0m \u001b[0mint\u001b[0m\u001b[0;34m)\u001b[0m\u001b[0;34m\u001b[0m\u001b[0;34m\u001b[0m\u001b[0m\n",
            "\u001b[0;32m/usr/local/lib/python3.10/dist-packages/sklearn/linear_model/_base.py\u001b[0m in \u001b[0;36mdecision_function\u001b[0;34m(self, X)\u001b[0m\n\u001b[1;32m    398\u001b[0m         \u001b[0mxp\u001b[0m\u001b[0;34m,\u001b[0m \u001b[0m_\u001b[0m \u001b[0;34m=\u001b[0m \u001b[0mget_namespace\u001b[0m\u001b[0;34m(\u001b[0m\u001b[0mX\u001b[0m\u001b[0;34m)\u001b[0m\u001b[0;34m\u001b[0m\u001b[0;34m\u001b[0m\u001b[0m\n\u001b[1;32m    399\u001b[0m \u001b[0;34m\u001b[0m\u001b[0m\n\u001b[0;32m--> 400\u001b[0;31m         \u001b[0mX\u001b[0m \u001b[0;34m=\u001b[0m \u001b[0mself\u001b[0m\u001b[0;34m.\u001b[0m\u001b[0m_validate_data\u001b[0m\u001b[0;34m(\u001b[0m\u001b[0mX\u001b[0m\u001b[0;34m,\u001b[0m \u001b[0maccept_sparse\u001b[0m\u001b[0;34m=\u001b[0m\u001b[0;34m\"csr\"\u001b[0m\u001b[0;34m,\u001b[0m \u001b[0mreset\u001b[0m\u001b[0;34m=\u001b[0m\u001b[0;32mFalse\u001b[0m\u001b[0;34m)\u001b[0m\u001b[0;34m\u001b[0m\u001b[0;34m\u001b[0m\u001b[0m\n\u001b[0m\u001b[1;32m    401\u001b[0m         \u001b[0mscores\u001b[0m \u001b[0;34m=\u001b[0m \u001b[0msafe_sparse_dot\u001b[0m\u001b[0;34m(\u001b[0m\u001b[0mX\u001b[0m\u001b[0;34m,\u001b[0m \u001b[0mself\u001b[0m\u001b[0;34m.\u001b[0m\u001b[0mcoef_\u001b[0m\u001b[0;34m.\u001b[0m\u001b[0mT\u001b[0m\u001b[0;34m,\u001b[0m \u001b[0mdense_output\u001b[0m\u001b[0;34m=\u001b[0m\u001b[0;32mTrue\u001b[0m\u001b[0;34m)\u001b[0m \u001b[0;34m+\u001b[0m \u001b[0mself\u001b[0m\u001b[0;34m.\u001b[0m\u001b[0mintercept_\u001b[0m\u001b[0;34m\u001b[0m\u001b[0;34m\u001b[0m\u001b[0m\n\u001b[1;32m    402\u001b[0m         \u001b[0;32mreturn\u001b[0m \u001b[0mxp\u001b[0m\u001b[0;34m.\u001b[0m\u001b[0mreshape\u001b[0m\u001b[0;34m(\u001b[0m\u001b[0mscores\u001b[0m\u001b[0;34m,\u001b[0m \u001b[0;34m-\u001b[0m\u001b[0;36m1\u001b[0m\u001b[0;34m)\u001b[0m \u001b[0;32mif\u001b[0m \u001b[0mscores\u001b[0m\u001b[0;34m.\u001b[0m\u001b[0mshape\u001b[0m\u001b[0;34m[\u001b[0m\u001b[0;36m1\u001b[0m\u001b[0;34m]\u001b[0m \u001b[0;34m==\u001b[0m \u001b[0;36m1\u001b[0m \u001b[0;32melse\u001b[0m \u001b[0mscores\u001b[0m\u001b[0;34m\u001b[0m\u001b[0;34m\u001b[0m\u001b[0m\n",
            "\u001b[0;32m/usr/local/lib/python3.10/dist-packages/sklearn/base.py\u001b[0m in \u001b[0;36m_validate_data\u001b[0;34m(self, X, y, reset, validate_separately, **check_params)\u001b[0m\n\u001b[1;32m    563\u001b[0m             \u001b[0;32mraise\u001b[0m \u001b[0mValueError\u001b[0m\u001b[0;34m(\u001b[0m\u001b[0;34m\"Validation should be done on X, y or both.\"\u001b[0m\u001b[0;34m)\u001b[0m\u001b[0;34m\u001b[0m\u001b[0;34m\u001b[0m\u001b[0m\n\u001b[1;32m    564\u001b[0m         \u001b[0;32melif\u001b[0m \u001b[0;32mnot\u001b[0m \u001b[0mno_val_X\u001b[0m \u001b[0;32mand\u001b[0m \u001b[0mno_val_y\u001b[0m\u001b[0;34m:\u001b[0m\u001b[0;34m\u001b[0m\u001b[0;34m\u001b[0m\u001b[0m\n\u001b[0;32m--> 565\u001b[0;31m             \u001b[0mX\u001b[0m \u001b[0;34m=\u001b[0m \u001b[0mcheck_array\u001b[0m\u001b[0;34m(\u001b[0m\u001b[0mX\u001b[0m\u001b[0;34m,\u001b[0m \u001b[0minput_name\u001b[0m\u001b[0;34m=\u001b[0m\u001b[0;34m\"X\"\u001b[0m\u001b[0;34m,\u001b[0m \u001b[0;34m**\u001b[0m\u001b[0mcheck_params\u001b[0m\u001b[0;34m)\u001b[0m\u001b[0;34m\u001b[0m\u001b[0;34m\u001b[0m\u001b[0m\n\u001b[0m\u001b[1;32m    566\u001b[0m             \u001b[0mout\u001b[0m \u001b[0;34m=\u001b[0m \u001b[0mX\u001b[0m\u001b[0;34m\u001b[0m\u001b[0;34m\u001b[0m\u001b[0m\n\u001b[1;32m    567\u001b[0m         \u001b[0;32melif\u001b[0m \u001b[0mno_val_X\u001b[0m \u001b[0;32mand\u001b[0m \u001b[0;32mnot\u001b[0m \u001b[0mno_val_y\u001b[0m\u001b[0;34m:\u001b[0m\u001b[0;34m\u001b[0m\u001b[0;34m\u001b[0m\u001b[0m\n",
            "\u001b[0;32m/usr/local/lib/python3.10/dist-packages/sklearn/utils/validation.py\u001b[0m in \u001b[0;36mcheck_array\u001b[0;34m(array, accept_sparse, accept_large_sparse, dtype, order, copy, force_all_finite, ensure_2d, allow_nd, ensure_min_samples, ensure_min_features, estimator, input_name)\u001b[0m\n\u001b[1;32m    877\u001b[0m                     \u001b[0marray\u001b[0m \u001b[0;34m=\u001b[0m \u001b[0mxp\u001b[0m\u001b[0;34m.\u001b[0m\u001b[0mastype\u001b[0m\u001b[0;34m(\u001b[0m\u001b[0marray\u001b[0m\u001b[0;34m,\u001b[0m \u001b[0mdtype\u001b[0m\u001b[0;34m,\u001b[0m \u001b[0mcopy\u001b[0m\u001b[0;34m=\u001b[0m\u001b[0;32mFalse\u001b[0m\u001b[0;34m)\u001b[0m\u001b[0;34m\u001b[0m\u001b[0;34m\u001b[0m\u001b[0m\n\u001b[1;32m    878\u001b[0m                 \u001b[0;32melse\u001b[0m\u001b[0;34m:\u001b[0m\u001b[0;34m\u001b[0m\u001b[0;34m\u001b[0m\u001b[0m\n\u001b[0;32m--> 879\u001b[0;31m                     \u001b[0marray\u001b[0m \u001b[0;34m=\u001b[0m \u001b[0m_asarray_with_order\u001b[0m\u001b[0;34m(\u001b[0m\u001b[0marray\u001b[0m\u001b[0;34m,\u001b[0m \u001b[0morder\u001b[0m\u001b[0;34m=\u001b[0m\u001b[0morder\u001b[0m\u001b[0;34m,\u001b[0m \u001b[0mdtype\u001b[0m\u001b[0;34m=\u001b[0m\u001b[0mdtype\u001b[0m\u001b[0;34m,\u001b[0m \u001b[0mxp\u001b[0m\u001b[0;34m=\u001b[0m\u001b[0mxp\u001b[0m\u001b[0;34m)\u001b[0m\u001b[0;34m\u001b[0m\u001b[0;34m\u001b[0m\u001b[0m\n\u001b[0m\u001b[1;32m    880\u001b[0m             \u001b[0;32mexcept\u001b[0m \u001b[0mComplexWarning\u001b[0m \u001b[0;32mas\u001b[0m \u001b[0mcomplex_warning\u001b[0m\u001b[0;34m:\u001b[0m\u001b[0;34m\u001b[0m\u001b[0;34m\u001b[0m\u001b[0m\n\u001b[1;32m    881\u001b[0m                 raise ValueError(\n",
            "\u001b[0;32m/usr/local/lib/python3.10/dist-packages/sklearn/utils/_array_api.py\u001b[0m in \u001b[0;36m_asarray_with_order\u001b[0;34m(array, dtype, order, copy, xp)\u001b[0m\n\u001b[1;32m    183\u001b[0m     \u001b[0;32mif\u001b[0m \u001b[0mxp\u001b[0m\u001b[0;34m.\u001b[0m\u001b[0m__name__\u001b[0m \u001b[0;32min\u001b[0m \u001b[0;34m{\u001b[0m\u001b[0;34m\"numpy\"\u001b[0m\u001b[0;34m,\u001b[0m \u001b[0;34m\"numpy.array_api\"\u001b[0m\u001b[0;34m}\u001b[0m\u001b[0;34m:\u001b[0m\u001b[0;34m\u001b[0m\u001b[0;34m\u001b[0m\u001b[0m\n\u001b[1;32m    184\u001b[0m         \u001b[0;31m# Use NumPy API to support order\u001b[0m\u001b[0;34m\u001b[0m\u001b[0;34m\u001b[0m\u001b[0m\n\u001b[0;32m--> 185\u001b[0;31m         \u001b[0marray\u001b[0m \u001b[0;34m=\u001b[0m \u001b[0mnumpy\u001b[0m\u001b[0;34m.\u001b[0m\u001b[0masarray\u001b[0m\u001b[0;34m(\u001b[0m\u001b[0marray\u001b[0m\u001b[0;34m,\u001b[0m \u001b[0morder\u001b[0m\u001b[0;34m=\u001b[0m\u001b[0morder\u001b[0m\u001b[0;34m,\u001b[0m \u001b[0mdtype\u001b[0m\u001b[0;34m=\u001b[0m\u001b[0mdtype\u001b[0m\u001b[0;34m)\u001b[0m\u001b[0;34m\u001b[0m\u001b[0;34m\u001b[0m\u001b[0m\n\u001b[0m\u001b[1;32m    186\u001b[0m         \u001b[0;32mreturn\u001b[0m \u001b[0mxp\u001b[0m\u001b[0;34m.\u001b[0m\u001b[0masarray\u001b[0m\u001b[0;34m(\u001b[0m\u001b[0marray\u001b[0m\u001b[0;34m,\u001b[0m \u001b[0mcopy\u001b[0m\u001b[0;34m=\u001b[0m\u001b[0mcopy\u001b[0m\u001b[0;34m)\u001b[0m\u001b[0;34m\u001b[0m\u001b[0;34m\u001b[0m\u001b[0m\n\u001b[1;32m    187\u001b[0m     \u001b[0;32melse\u001b[0m\u001b[0;34m:\u001b[0m\u001b[0;34m\u001b[0m\u001b[0;34m\u001b[0m\u001b[0m\n",
            "\u001b[0;32m/usr/local/lib/python3.10/dist-packages/pandas/core/generic.py\u001b[0m in \u001b[0;36m__array__\u001b[0;34m(self, dtype)\u001b[0m\n\u001b[1;32m   2068\u001b[0m \u001b[0;34m\u001b[0m\u001b[0m\n\u001b[1;32m   2069\u001b[0m     \u001b[0;32mdef\u001b[0m \u001b[0m__array__\u001b[0m\u001b[0;34m(\u001b[0m\u001b[0mself\u001b[0m\u001b[0;34m,\u001b[0m \u001b[0mdtype\u001b[0m\u001b[0;34m:\u001b[0m \u001b[0mnpt\u001b[0m\u001b[0;34m.\u001b[0m\u001b[0mDTypeLike\u001b[0m \u001b[0;34m|\u001b[0m \u001b[0;32mNone\u001b[0m \u001b[0;34m=\u001b[0m \u001b[0;32mNone\u001b[0m\u001b[0;34m)\u001b[0m \u001b[0;34m->\u001b[0m \u001b[0mnp\u001b[0m\u001b[0;34m.\u001b[0m\u001b[0mndarray\u001b[0m\u001b[0;34m:\u001b[0m\u001b[0;34m\u001b[0m\u001b[0;34m\u001b[0m\u001b[0m\n\u001b[0;32m-> 2070\u001b[0;31m         \u001b[0;32mreturn\u001b[0m \u001b[0mnp\u001b[0m\u001b[0;34m.\u001b[0m\u001b[0masarray\u001b[0m\u001b[0;34m(\u001b[0m\u001b[0mself\u001b[0m\u001b[0;34m.\u001b[0m\u001b[0m_values\u001b[0m\u001b[0;34m,\u001b[0m \u001b[0mdtype\u001b[0m\u001b[0;34m=\u001b[0m\u001b[0mdtype\u001b[0m\u001b[0;34m)\u001b[0m\u001b[0;34m\u001b[0m\u001b[0;34m\u001b[0m\u001b[0m\n\u001b[0m\u001b[1;32m   2071\u001b[0m \u001b[0;34m\u001b[0m\u001b[0m\n\u001b[1;32m   2072\u001b[0m     def __array_wrap__(\n",
            "\u001b[0;31mValueError\u001b[0m: could not convert string to float: 'A'"
          ]
        }
      ]
    },
    {
      "cell_type": "code",
      "source": [
        "submission = pd.DataFrame({\n",
        "        \"Id\":test_df_Id,\n",
        "        \"class\": preds})"
      ],
      "metadata": {
        "colab": {
          "base_uri": "https://localhost:8080/",
          "height": 200
        },
        "id": "KsG1W8hliu0g",
        "outputId": "e2d91406-e09d-4345-b83b-65d4647e87af"
      },
      "execution_count": 66,
      "outputs": [
        {
          "output_type": "error",
          "ename": "NameError",
          "evalue": "ignored",
          "traceback": [
            "\u001b[0;31m---------------------------------------------------------------------------\u001b[0m",
            "\u001b[0;31mNameError\u001b[0m                                 Traceback (most recent call last)",
            "\u001b[0;32m<ipython-input-66-69be0c7dca49>\u001b[0m in \u001b[0;36m<cell line: 1>\u001b[0;34m()\u001b[0m\n\u001b[1;32m      1\u001b[0m submission = pd.DataFrame({\n\u001b[0;32m----> 2\u001b[0;31m         \u001b[0;34m\"Id\"\u001b[0m\u001b[0;34m:\u001b[0m\u001b[0mtest_df_Id\u001b[0m\u001b[0;34m,\u001b[0m\u001b[0;34m\u001b[0m\u001b[0;34m\u001b[0m\u001b[0m\n\u001b[0m\u001b[1;32m      3\u001b[0m         \"class\": preds})\n",
            "\u001b[0;31mNameError\u001b[0m: name 'test_df_Id' is not defined"
          ]
        }
      ]
    },
    {
      "cell_type": "code",
      "source": [],
      "metadata": {
        "id": "lHJ-nSLIjmat"
      },
      "execution_count": null,
      "outputs": []
    }
  ]
}